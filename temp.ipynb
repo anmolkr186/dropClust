{
 "metadata": {
  "language_info": {
   "codemirror_mode": {
    "name": "ipython",
    "version": 3
   },
   "file_extension": ".py",
   "mimetype": "text/x-python",
   "name": "python",
   "nbconvert_exporter": "python",
   "pygments_lexer": "ipython3",
   "version": "3.8.6-final"
  },
  "orig_nbformat": 2,
  "kernelspec": {
   "name": "python3",
   "display_name": "Python 3.8.6 64-bit ('bioenv': conda)",
   "metadata": {
    "interpreter": {
     "hash": "aa75187c8f4c43be3610a76358c176d6cfafd05c089e719b12927129c90d194b"
    }
   }
  }
 },
 "nbformat": 4,
 "nbformat_minor": 2,
 "cells": [
  {
   "cell_type": "code",
   "execution_count": 29,
   "metadata": {},
   "outputs": [],
   "source": [
    "import numpy as np\n",
    "import pandas as pd\n",
    "import scanpy as sc\n",
    "# import SummarizedExperiment\n"
   ]
  },
  {
   "cell_type": "code",
   "execution_count": 2,
   "metadata": {},
   "outputs": [],
   "source": [
    "\n",
    "\n",
    "# Sampling Primary Clusters\n",
    "# Desciption: Performs sampling from the primary clusters in an inverse exponential order of cluster size.\n",
    "\n",
    "# Details: \n",
    "# Sampling in inverse proportion of cluster size following a exponential decay equation.\n",
    "# To ensure selection of sufficient representative transcriptomes from small clusters,\n",
    "# an exponential decay function  is used to determine the proportion of transcriptomes to be sampled from each\n",
    "# cluster. For $i^{th}$ cluster, the proportion of expression profiles $p_i$ was {formula from paper}\n",
    "\n",
    "# Parameters: \n",
    "# object: A SingleCellExperiment object containing normalized expression values in \\code{\"normcounts\"}.\n",
    "# nsamples: integer, total number of samples to return post sampling; ignored when \\code{optm_parameters = FALSE}.\n",
    "# method: character, one of c(\"sps\",\"random\"). Structure Preserving Sampling (sps) selects proportional number of members from each cluster obtained from partitioning an approximate nearest neighbour graph.\n",
    "# optm_parameters: logical, when TRUE the parameters (\\code{pinit, pfin, K}) are optimized such that exactly \\code{nsamples} are returned. Optimization is performed using simulated annealing\n",
    "# pinit: numeric [0,0.5], minimum probability of that sampling occurs from a cluster, ignored when \\code{optm_parameters = TRUE}.\n",
    "# pfin: numeric [0.5,1], maximum probability of that sampling occurs from a cluster, ignored when \\code{optm_parameters = TRUE}.\n",
    "# K: numeric, scaling factor analogous to Boltzmann constant, ignored when \\code{optm_parameters = TRUE}.\n",
    "\n",
    "# Return: A SingleCellExperiment object with an additional column named \\code{Sampling} in \\code{colData} column. The column stores a a logical value against each cell  to indicate if it has been sampled.\n"
   ]
  },
  {
   "cell_type": "code",
   "execution_count": 14,
   "metadata": {},
   "outputs": [],
   "source": [
    "adata = sc.read_10x_mtx('hg19/', var_names='gene_symbols', cache=True)   "
   ]
  },
  {
   "cell_type": "code",
   "execution_count": null,
   "metadata": {},
   "outputs": [],
   "source": []
  }
 ]
}