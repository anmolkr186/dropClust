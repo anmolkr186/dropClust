{
 "cells": [
  {
   "cell_type": "code",
   "execution_count": 6,
   "metadata": {},
   "outputs": [],
   "source": [
    "import numpy as np\n",
    "import pandas as pd\n",
    "import scanpy as sc\n",
    "import math\n",
    "import anndata2ri\n",
    "from rpy2.robjects import r\n",
    "from rpy2.robjects.conversion import localconverter\n",
    "# import SummarizedExperiment\n"
   ]
  },
  {
   "cell_type": "code",
   "execution_count": 7,
   "metadata": {},
   "outputs": [],
   "source": [
    "\n",
    "\n",
    "# Sampling Primary Clusters\n",
    "# Desciption: Performs sampling from the primary clusters in an inverse exponential order of cluster size.\n",
    "# Details: \n",
    "# Sampling in inverse proportion of cluster size following a exponential decay equation.\n",
    "# To ensure selection of sufficient representative transcriptomes from small clusters,\n",
    "# an exponential decay function  is used to determine the proportion of transcriptomes to be sampled from each\n",
    "# cluster. For $i^{th}$ cluster, the proportion of expression profiles $p_i$ was {formula from paper}\n",
    "\n",
    "# Parameters: \n",
    "# object: A SingleCellExperiment object containing normalized expression values in \\code{\"normcounts\"}.\n",
    "# nsamples: integer, total number of samples to return post sampling; ignored when \\code{optm_parameters = FALSE}.\n",
    "# method: character, one of c(\"sps\",\"random\"). Structure Preserving Sampling (sps) selects proportional number of members from each cluster obtained from partitioning an approximate nearest neighbour graph.\n",
    "# optm_parameters: logical, when TRUE the parameters (\\code{pinit, pfin, K}) are optimized such that exactly \\code{nsamples} are returned. Optimization is performed using simulated annealing\n",
    "# pinit: numeric [0,0.5], minimum probability of that sampling occurs from a cluster, ignored when \\code{optm_parameters = TRUE}.\n",
    "# pfin: numeric [0.5,1], maximum probability of that sampling occurs from a cluster, ignored when \\code{optm_parameters = TRUE}.\n",
    "# K: numeric, scaling factor analogous to Boltzmann constant, ignored when \\code{optm_parameters = TRUE}.\n",
    "\n",
    "# Return: A SingleCellExperiment object with an additional column named \\code{Sampling} in \\code{colData} column. The column stores a a logical value against each cell  to indicate if it has been sampled.\n"
   ]
  },
  {
   "cell_type": "code",
   "execution_count": null,
   "metadata": {},
   "outputs": [],
   "source": [
    "def optimised_param(partition, nsamples = 500):\n",
    "    if(nsamples> partiton.shape[0]):\n",
    "        nsamples = partiton.shape[0]\n",
    "    \n",
    "    global_min = 0\n",
    "    tol = 1e-3\n",
    "    max_times = 20\n",
    "    lower = np.array([0.05, 0.9, 500])\n",
    "    upper = np.array([0.1, 0.95, 4000])\n",
    "    \n",
    "    params = None\n",
    "    \n",
    "    def pin_find(params, max_c = nsamples):\n",
    "        output = np.array(partition, dtype = float)\n",
    "        pinit = param[0]\n",
    "        pfin = param[1]\n",
    "        K = param[2]\n",
    "        cluster_freq = np.array(np.unique(output[:][1], return_counts=True).T)\n",
    "        prop = np.round((pinit - np.exp(-cluster_freq/K) * (pinit - pfin) )* cluster_freq)\n",
    "        cluster_freq = np.vstack(cluster_freq, prop).T\n",
    "        \n",
    "        subsamples_lovain = []\n",
    "        for i in range(len(prop)):\n",
    "            subsamples_lovain = subsamples_lovain + np.random.choice(output[np.nonzero(output[:][1]==i)][0], size = prop[k], replace = False)\n",
    "\n",
    "        subsamples_lovain = np.asarray(subsamples_lovain)\n",
    "        \n",
    "        return np.abs(max_c - subsamples_lovain.shape[0]) \n",
    "\n",
    "        # FIX ME: numpy.reshape() of some kind to be done here\n",
    "        # prop = reshape2::melt(prop)$value\n",
    "\n",
    "    "
   ]
  },
  {
   "cell_type": "code",
   "execution_count": null,
   "metadata": {},
   "outputs": [],
   "source": []
  },
  {
   "cell_type": "markdown",
   "metadata": {},
   "source": [
    "### Script Begins here"
   ]
  },
  {
   "cell_type": "code",
   "execution_count": 8,
   "metadata": {},
   "outputs": [
    {
     "data": {
      "text/plain": [
       "AnnData object with n_obs × n_vars = 2700 × 32738\n",
       "    var: 'gene_ids'"
      ]
     },
     "execution_count": 8,
     "metadata": {},
     "output_type": "execute_result"
    }
   ],
   "source": [
    "adata = sc.read_10x_mtx('hg19/', var_names='gene_symbols', cache=True)   \n",
    "adata"
   ]
  },
  {
   "cell_type": "code",
   "execution_count": 9,
   "metadata": {},
   "outputs": [],
   "source": [
    "# (adata)\n",
    "object = adata\n",
    "nsamples=500\n",
    "method = \"sps\"\n",
    "optm_parameters=False\n",
    "pinit=0.195\n",
    "pfin = 0.9\n",
    "K=500"
   ]
  },
  {
   "cell_type": "code",
   "execution_count": 59,
   "metadata": {},
   "outputs": [
    {
     "name": "stdout",
     "output_type": "stream",
     "text": [
      "10913\n",
      "(10913,)\n",
      "[  116 18839 21845 ... 11642 30440 14225]\n"
     ]
    }
   ],
   "source": [
    "# if(nsamples>adata.shape[1]):\n",
    "#     return adata\n",
    "\n",
    "# if(method not in [\"random\", \"sps\"]):\n",
    "#     print(\"Method not found\")\n",
    "#     exit()\n",
    "\n",
    "no_samples = object.X.shape[1]\n",
    "init = no_samples if no_samples < 20000 else min(20000,round(no_samples/3))\n",
    "print(init)\n",
    "\n",
    "# random sample of ids from sample = 0 to no_samples - 1 of size init\n",
    "sample_ids = np.random.choice(list(range(0, no_samples,1)), init) \n",
    "print(sample_ids.shape)\n",
    "print(sample_ids)"
   ]
  },
  {
   "cell_type": "code",
   "execution_count": null,
   "metadata": {},
   "outputs": [],
   "source": [
    "if(method==\"sps\"):\n",
    "    \"\"\"\n",
    "    if(!any(reducedDimNames(object)==\"CComponents\"))\n",
    "        data = Log2Normalize(normcounts(object)[SingleCellExperiment::rowData(object)$HVG, sample_ids],return.sparse = FALSE)\n",
    "    else\n",
    "        data = as.matrix(normcounts(object)[, sample_ids])\n",
    "    \"\"\"\n",
    "    # return numpy array\n",
    "    partition = annPartition(data)\n",
    "\n",
    "    # ---- How to convert partition-----\n",
    "    # data = pd.Series([1, 1, 1, 2, 3, 3, 3, 3, 4, 4, 5])\n",
    "    # data.value_counts()\n",
    "\n",
    "\n",
    "    if(optm_parameters==True):\n",
    "        param = optimized_param(partition, nsamples)\n",
    "        pinit = param[0]\n",
    "        pfin = param[1]\n",
    "        K = param[2]\n",
    "        print(\"Optimized parameters:\\n\", param,\"\\n\")\n",
    "\n",
    "    #old seed\n",
    "    \n",
    "    # frequeny table of partition[:][1]\n",
    "    cluster_freq = np.array(np.unique(partition[:][1], return_counts=True).T)\n",
    "    prop = np.round((pinit - np.exp(-cluster_freq/K) * (pinit - pfin) )* cluster_freq)\n",
    "    cluster_freq = np.vstack(cluster_freq, prop).T\n",
    "\n",
    "    # FIX ME: numpy.reshape() of some kind to be done here\n",
    "    # prop = reshape2::melt(prop)$value\n",
    "\n",
    "    subsample = []\n",
    "\n",
    "    for i in range(len(prop)):\n",
    "        subsample = subsample + np.random.choice(partition[np.nonzero(partition[:][1]==i)], size = prop[k], replace = False)\n",
    "\n",
    "    subsample = np.asarray(subsample)\n",
    "\n",
    "    \"\"\"\n",
    "\n",
    "    .Random.seed = oldseed\n",
    "    SummarizedExperiment::colData(object)$Sampling = rep(FALSE, ncol(object))\n",
    "    SummarizedExperiment::colData(object)$Sampling[sample_ids[subsamples]] =  TRUE\n",
    "\n",
    "    \"\"\"\n",
    "\n",
    "    print(len(subsamples), \"Samples extracted.\\n\")\n",
    "\n",
    "    \n",
    "\n",
    "# Code below needs to be converted first\n",
    "\n",
    "# elif(method==\"random\"):\n",
    "#     \"\"\"\n",
    "#     oldseed = .Random.seed\n",
    "#     subsamples = sample(sample_ids, nsamples)\n",
    "#     .Random.seed = oldseed\n",
    "#     SummarizedExperiment::colData(object)$Sampling = rep(FALSE, ncol(object))\n",
    "#     SummarizedExperiment::colData(object)$Sampling[subsamples] =  TRUE\n",
    "\n",
    "#     \"\"\"\n",
    "# else:\n",
    "#     print(\"Invalid Sampling. Fallback to all samples\")"
   ]
  },
  {
   "cell_type": "code",
   "execution_count": null,
   "metadata": {},
   "outputs": [],
   "source": []
  }
 ],
 "metadata": {
  "kernelspec": {
   "display_name": "Python 3",
   "language": "python",
   "name": "python3"
  },
  "language_info": {
   "codemirror_mode": {
    "name": "ipython",
    "version": 3
   },
   "file_extension": ".py",
   "mimetype": "text/x-python",
   "name": "python",
   "nbconvert_exporter": "python",
   "pygments_lexer": "ipython3",
   "version": "3.7.6"
  }
 },
 "nbformat": 4,
 "nbformat_minor": 2
}
